{
  "nbformat": 4,
  "nbformat_minor": 0,
  "metadata": {
    "colab": {
      "provenance": []
    },
    "kernelspec": {
      "name": "python3",
      "display_name": "Python 3"
    },
    "language_info": {
      "name": "python"
    },
    "accelerator": "GPU",
    "gpuClass": "standard"
  },
  "cells": [
    {
      "cell_type": "markdown",
      "source": [
        "# Sprawozdanie z zajęć nr 9\n",
        "## Programowanie Równolegle i Rozproszone 2022/2023\n",
        "### Uniwersytet w Białymstoku\n",
        "### Karol Wójcik\n",
        "### 80292"
      ],
      "metadata": {
        "id": "5pywbMH-CBLY"
      }
    },
    {
      "cell_type": "markdown",
      "source": [
        "# <<< **MANDELBROT** >>> "
      ],
      "metadata": {
        "id": "o5sFUmfLVIdh"
      }
    },
    {
      "cell_type": "markdown",
      "source": [
        "## Zadanie 2p\n",
        "## 1. Dokonaj przekształcenia plików z wygenerowanymi fraktalami do postaci plików graficznych,\n",
        "## które wyświetlisz.\n",
        "## 2. Przedstaw na wykresach porównanie czasów wykonania programów na GPU (Colab) oraz\n",
        "## CPU (Colab oraz komputer stacjonarny) w zależności od rozmiaru problemu (stała DIM). W\n",
        "##optymalnym przypadku wykresy powinny zostać zrealizowane z matplotlib i dołączone do\n",
        "##Colab.\n",
        "## 3. Punkty 1,2 zrealizuj dla fraktala Mandelbrota.\n",
        "## 4. Zrealizuj pracę w postaci sprawozdania w Google Colab – dokonaj także opisu programów i\n",
        "## zrealizowanych czynności – ma to mieć postać tutoriala dla osoby, która nie na związku z\n",
        "## przedmiotem"
      ],
      "metadata": {
        "id": "BeSLsI4wCgkJ"
      }
    },
    {
      "cell_type": "markdown",
      "source": [
        "# Zapraszam na dysk w którym są zdjecia wygenerowanych fraktali \n",
        "\n",
        "https://drive.google.com/drive/folders/1DzqlUiPvbAacNRjjvMXClgZyVZ3zfoKk?usp=sharing"
      ],
      "metadata": {
        "id": "BrkKP6enbWpj"
      }
    },
    {
      "cell_type": "markdown",
      "source": [
        "# Po wygenerowaniu fraktala nalezy go odpalić w np File Viewer 4 plus / Gimp /  otworzyć za pomoca pythona "
      ],
      "metadata": {
        "id": "asmMsg_8CtED"
      }
    },
    {
      "cell_type": "markdown",
      "source": [
        "## 1. zmiana środowiska wykonawczego z CPU na GPU \n",
        "## Środowisko wykonawcze - > Zmień typ środowiska wykonawczego - > GPU - > ZAPISZ\n",
        "## 2. Instalacja i sprawdzenie wersji \n"
      ],
      "metadata": {
        "id": "iI4zChyGDJTj"
      }
    },
    {
      "cell_type": "code",
      "source": [
        "!nvcc --version\n",
        "!pip install git+https://github.com/andreinechaev/nvcc4jupyter.git\n",
        "%load_ext nvcc_plugin"
      ],
      "metadata": {
        "colab": {
          "base_uri": "https://localhost:8080/"
        },
        "id": "lyIg1tSOD4ct",
        "outputId": "c565f34a-a5ae-4d4d-f441-49dd53eae098"
      },
      "execution_count": 1,
      "outputs": [
        {
          "output_type": "stream",
          "name": "stdout",
          "text": [
            "nvcc: NVIDIA (R) Cuda compiler driver\n",
            "Copyright (c) 2005-2021 NVIDIA Corporation\n",
            "Built on Sun_Feb_14_21:12:58_PST_2021\n",
            "Cuda compilation tools, release 11.2, V11.2.152\n",
            "Build cuda_11.2.r11.2/compiler.29618528_0\n",
            "Looking in indexes: https://pypi.org/simple, https://us-python.pkg.dev/colab-wheels/public/simple/\n",
            "Collecting git+https://github.com/andreinechaev/nvcc4jupyter.git\n",
            "  Cloning https://github.com/andreinechaev/nvcc4jupyter.git to /tmp/pip-req-build-0wr1hv_8\n",
            "  Running command git clone -q https://github.com/andreinechaev/nvcc4jupyter.git /tmp/pip-req-build-0wr1hv_8\n",
            "Building wheels for collected packages: NVCCPlugin\n",
            "  Building wheel for NVCCPlugin (setup.py) ... \u001b[?25l\u001b[?25hdone\n",
            "  Created wheel for NVCCPlugin: filename=NVCCPlugin-0.0.2-py3-none-any.whl size=4304 sha256=8a04b6023ab6d8a69cb9635606f8b38be13e2ff590edabde2bc4187456e9cadc\n",
            "  Stored in directory: /tmp/pip-ephem-wheel-cache-4mg8i6iu/wheels/f3/08/cc/e2b5b0e1c92df07dbb50a6f024a68ce090f5e7b2316b41756d\n",
            "Successfully built NVCCPlugin\n",
            "Installing collected packages: NVCCPlugin\n",
            "Successfully installed NVCCPlugin-0.0.2\n",
            "created output directory at /content/src\n",
            "Out bin /content/result.out\n"
          ]
        }
      ]
    },
    {
      "cell_type": "markdown",
      "source": [
        "## 3. program na CUDA bez uzycia GPU, wykorzystujacy CPU czyli Procesor "
      ],
      "metadata": {
        "id": "vmRsPQGEEC7D"
      }
    },
    {
      "cell_type": "markdown",
      "source": [
        "# <<< opis programu >>> \n",
        "\n",
        "### 1. %%cu - wykorzystane by moc kompilowac kod cuda w Google Collab \n",
        "### 2. cuComplex stworzona klasa / struktura w C r to rzeczywiste , i imagine (urojone) , zaimplementowane mnozenie i dodawanie wyimaginowanych liczb przeciazajac operatory ( *  ) i ( + ) \n",
        "\n",
        "### 3. mandelbrot2 funkcja ktora zwraca 1 jesli punkt znajduje sie w zbiorze mandelbrota i 0 jesli nie \n",
        "\n",
        "### 4. kernel funkcja ktora liczy iteracyjnie wartosc pikseli \n",
        "### wykorzystuje offset któy umozliwa nam przenoszenie wartosci RGB \n",
        "### z = z * z + c; wzor na mandelbrota \n",
        "### \n",
        "\n",
        "### 5.  save to file zapisuje plik do plik .ppm\n",
        "\n",
        "### 6. main liczy czas , wywoluje funkcje "
      ],
      "metadata": {
        "id": "kD-71NW7ehdO"
      }
    },
    {
      "cell_type": "code",
      "source": [],
      "metadata": {
        "id": "m2IhZmV0gXph"
      },
      "execution_count": null,
      "outputs": []
    },
    {
      "cell_type": "code",
      "source": [
        "%%cu\n",
        "#include<stdio.h>\n",
        "#include <time.h>\n",
        "#define DIM 2000\n",
        "\n",
        "\n",
        "\n",
        "\n",
        "struct cuComplex {\n",
        "    float   r;\n",
        "    float   i;\n",
        "    cuComplex( float a, float b ) : r(a), i(b)  {}\n",
        "    float magnitude2( void ) { return r * r + i * i; }\n",
        "    cuComplex operator*(const cuComplex& a) {\n",
        "        return cuComplex(r*a.r - i*a.i, i*a.r + r*a.i);\n",
        "    }\n",
        "    cuComplex operator+(const cuComplex& a) {\n",
        "        return cuComplex(r+a.r, i+a.i);\n",
        "    }\n",
        "};\n",
        "\n",
        "\n",
        "\n",
        "int mandelbrot2(double x, double y) {\n",
        "    const float scale = 1.5;\n",
        "    float jx = scale * (float)(DIM/2 - x)/(DIM/2);\n",
        "    float jy = scale * (float)(DIM/2 - y)/(DIM/2);\n",
        "    cuComplex c(jx, jy);\n",
        "    cuComplex z(0, 0);\n",
        "    for (int i = 0; i < 200; i++) {\n",
        "    z = z * z + c;\n",
        "      if (z.magnitude2() > 1000) {\n",
        "        return 0;\n",
        "    }\n",
        "  }\n",
        "  return 1;\n",
        "}\n",
        "\n",
        "\n",
        "void kernel( unsigned char *ptr ){\n",
        "    for (int y=0; y<DIM; y++) {\n",
        "        for (int x=0; x<DIM; x++) {\n",
        "            int offset = x + y * DIM;\n",
        "            int mandelbrotValue = mandelbrot2( x, y );\n",
        "            ptr[offset*4 + 0] = 19;\n",
        "            ptr[offset*4 + 1] = 255 * mandelbrotValue ;\n",
        "            ptr[offset*4 + 2] = 72;\n",
        "            ptr[offset*4 + 3] = 200;\n",
        "        }\n",
        "    }\n",
        " }\n",
        "\n",
        "struct DataBlock{\n",
        "    unsigned char *dev_bitmap; \n",
        "};\n",
        "\n",
        "void save_to_file(unsigned char *ptr){\n",
        "  FILE *fp=fopen(\"MandelCPU.ppm\",\"w\");\n",
        "  fprintf(fp,\"P3\\n%d %d\\n255\\n\", DIM, DIM);\n",
        "  for(int y=0;y<DIM;y++){\n",
        "    for(int x=0;x<DIM;x++){\n",
        "      int offset=x+y*DIM;\n",
        "      fprintf(fp,\"\\n%d %d %d\", ptr[offset*4+0], ptr[offset*4+1], ptr[offset*4+2]);\n",
        "    }\n",
        "  }\n",
        "  fclose(fp);\n",
        "}\n",
        "\n",
        "\n",
        "int main( void ) {\n",
        "       clock_t start_time = clock();\n",
        "\n",
        "    DataBlock data ; \n",
        "    unsigned char *bitmap = (unsigned char*)malloc(DIM*DIM*4*sizeof(unsigned char));\n",
        "    int image_size = DIM * DIM * 4 ;\n",
        "    kernel(bitmap);\n",
        "    save_to_file(bitmap);\n",
        "    // Record the end time\n",
        "    clock_t end_time = clock();\n",
        "\n",
        "    // Calculate the elapsed time in milliseconds\n",
        "    double elapsed_time = (double)(end_time - start_time) / CLOCKS_PER_SEC * 1000;\n",
        "\n",
        "    printf(\"milliseconds %f \\n\", elapsed_time);\n",
        "    long milliseconds = elapsed_time ; \n",
        "    // Convert the milliseconds to seconds\n",
        "    long seconds = milliseconds / 1000.0;\n",
        "    // Print the result\n",
        "    printf(\"%d seconds\\n\",  seconds);\n",
        "\n",
        "\n",
        "    return 0;\n",
        "\n",
        "}"
      ],
      "metadata": {
        "colab": {
          "base_uri": "https://localhost:8080/"
        },
        "id": "2dD2_3F_ETQ4",
        "outputId": "679744aa-87d9-4b18-ffdd-7cade6aa4667"
      },
      "execution_count": 68,
      "outputs": [
        {
          "output_type": "stream",
          "name": "stdout",
          "text": [
            "milliseconds 6025.248000 \n",
            "6 seconds\n",
            "\n"
          ]
        }
      ]
    },
    {
      "cell_type": "markdown",
      "source": [
        "### 4. program na CUDA przy uzycia GPU, wykorzystujacy karte graficzna"
      ],
      "metadata": {
        "id": "xxC9qnCmMKGA"
      }
    },
    {
      "cell_type": "markdown",
      "source": [
        "# <<< opis programu >>> \n",
        "\n",
        "### 1. %%cu - wykorzystane by moc kompilowac kod cuda w Google Collab \n",
        "### 2. cuComplex stworzona klasa / struktura w C r to rzeczywiste , i imagine (urojone) , zaimplementowane mnozenie i dodawanie wyimaginowanych liczb przeciazajac operatory ( *  ) i ( + ) \n",
        "\n",
        "### 3. mandelbrot2 funkcja ktora zwraca 1 jesli punkt znajduje sie w zbiorze mandelbrota i 0 jesli nie \n",
        "\n",
        "### 4. kernel funkcja ktora liczy na karcie graficznej zamiast iteracyjnie  \n",
        "### wykorzystuje offset któy umozliwa nam przenoszenie wartosci RGB \n",
        "### z = z * z + c; wzor na mandelbrota \n",
        "### Pola x i y zmiennej blockIdx reprezentują indeksy bloku wymiarach x i y,odpowiednio.\n",
        "###Na przykład, w następującym fragmencie kodu:\n",
        "###int x = blockIdx.x;\n",
        "###int y = blockIdx.y;\n",
        "###zmienna x będzie zawierać indeks bloku w wymiarze x, a zmienna y będzie zawierać indeks bloku w wymiarze y. Te indeksy mogą być użyte do jednoznacznego identyfikowania bloku wątków w siatce i obliczania położenia bloku w siatce. \n",
        "\n",
        "### 5.  save to file zapisuje plik do plik .ppm\n",
        "\n",
        "### 6. main liczy czas , wywoluje funkcje "
      ],
      "metadata": {
        "id": "NWYIL--fgYxp"
      }
    },
    {
      "cell_type": "code",
      "source": [],
      "metadata": {
        "id": "F8_fChzhhrcB"
      },
      "execution_count": null,
      "outputs": []
    },
    {
      "cell_type": "code",
      "source": [
        "%%cu\n",
        "#include<stdio.h>\n",
        "#define DIM 2000\n",
        "#include <cuda_runtime.h>\n",
        "\n",
        "struct cuComplex {\n",
        "    float   r;\n",
        "    float   i;\n",
        "    // cuComplex( float a, float b ) : r(a), i(b)  {}\n",
        "    __device__ cuComplex( float a, float b ) : r(a), i(b) {} // Fix error for calling host function from device\n",
        "    __device__ float magnitude2( void ) {\n",
        "        return r * r + i * i;\n",
        "    }\n",
        "    __device__ cuComplex operator*(const cuComplex& a) {\n",
        "        return cuComplex(r*a.r - i*a.i, i*a.r + r*a.i);\n",
        "    }\n",
        "    __device__ cuComplex operator+(const cuComplex& a) {\n",
        "        return cuComplex(r+a.r, i+a.i);\n",
        "    }\n",
        "};\n",
        "\n",
        "\n",
        "__device__ int mandelbrot2(double x, double y) {\n",
        "    const float scale = 1.5;\n",
        "    float jx = scale * (float)(DIM/2 - x)/(DIM/2);\n",
        "    float jy = scale * (float)(DIM/2 - y)/(DIM/2);\n",
        "    cuComplex c(jx, jy);\n",
        "    cuComplex z(0, 0);\n",
        "    for (int i = 0; i < 200; i++) {\n",
        "    z = z * z + c;\n",
        "      if (z.magnitude2() > 1000) {\n",
        "        return 0;\n",
        "    }\n",
        "  }\n",
        "  return 1;\n",
        "}\n",
        "\n",
        "\n",
        "__global__ void kernel( unsigned char *ptr ) {\n",
        "    // map from blockIdx to pixel position\n",
        "    int x = blockIdx.x;\n",
        "    int y = blockIdx.y;\n",
        "    int offset = x + y * gridDim.x;\n",
        "\n",
        "    // now calculate the value at that position\n",
        "    int man =  mandelbrot2( x, y );\n",
        "    ptr[offset*4 + 0] = 150;\n",
        "    ptr[offset*4 + 1] = 220;\n",
        "    ptr[offset*4 + 2] = 177 * man;\n",
        "    ptr[offset*4 + 3] = 12;\n",
        "}\n",
        "\n",
        "// globals needed by the update routine\n",
        "struct DataBlock {\n",
        "    unsigned char   *dev_bitmap;\n",
        "};\n",
        "\n",
        "\n",
        "\n",
        "void save_to_file(unsigned char *ptr){\n",
        "  FILE *fp=fopen(\"MandelGPU.ppm\",\"w\");\n",
        "  fprintf(fp,\"P3\\n%d %d\\n255\\n\", DIM, DIM);\n",
        "  for(int y=0;y<DIM;y++){\n",
        "    for(int x=0;x<DIM;x++){\n",
        "      int offset=x+y*DIM;\n",
        "      fprintf(fp,\"\\n%d %d %d\", ptr[offset*4+0], ptr[offset*4+1], ptr[offset*4+2]);\n",
        "    }\n",
        "  }\n",
        "  fclose(fp);\n",
        "}\n",
        "\n",
        "int main( void ) {\n",
        "    // Create the start and end events\n",
        "    cudaEvent_t start, end;\n",
        "    cudaEventCreate(&start);\n",
        "    cudaEventCreate(&end);\n",
        "\n",
        "    // Record the start time\n",
        "    cudaEventRecord(start, 0);\n",
        "\n",
        "    \n",
        "    DataBlock data ; \n",
        "    unsigned char *bitmap = (unsigned char*)malloc(DIM*DIM*4*sizeof(unsigned char));\n",
        "    int image_size = DIM * DIM * 4 ;\n",
        "    unsigned char *dev_bitmap;\n",
        "    cudaMalloc((void**)&dev_bitmap,image_size);\n",
        "    data.dev_bitmap = dev_bitmap ;\n",
        "    dim3 grid(DIM,DIM);\n",
        "    kernel<<<grid,1>>>(dev_bitmap);\n",
        "    cudaMemcpy(bitmap,dev_bitmap,image_size,cudaMemcpyDeviceToHost) ;   \n",
        "    cudaFree(dev_bitmap);\n",
        "    save_to_file(bitmap);\n",
        "       // Record the end time\n",
        "    cudaEventRecord(end, 0);\n",
        "\n",
        "    // Synchronize the stream to wait for the kernel to finish\n",
        "    cudaEventSynchronize(end);\n",
        "\n",
        "    // Calculate the elapsed time\n",
        "    float elapsed_time;\n",
        "    cudaEventElapsedTime(&elapsed_time, start, end);\n",
        "\n",
        "    // Print the elapsed time in milliseconds\n",
        "    printf(\"Elapsed time: %f milliseconds\\n\", elapsed_time);\n",
        "\n",
        "    // Destroy the events\n",
        "    cudaEventDestroy(start);\n",
        "    cudaEventDestroy(end);\n",
        "\n",
        "\n",
        "}"
      ],
      "metadata": {
        "colab": {
          "base_uri": "https://localhost:8080/"
        },
        "id": "JuqYO0NBMLUc",
        "outputId": "5781fce1-5f87-44a3-9732-899947998f02"
      },
      "execution_count": 58,
      "outputs": [
        {
          "output_type": "stream",
          "name": "stdout",
          "text": [
            "Elapsed time: 634.012207 milliseconds\n",
            "\n"
          ]
        }
      ]
    },
    {
      "cell_type": "markdown",
      "source": [
        "#GPU time 59.203777    DIM 600\n",
        "#GPU time 105.271072   DIM 800\n",
        "#GPU time 163.239304   DIM 1000\n",
        "#GPU time 223.393799   DIM 1200\n",
        "#GPU time 309.888153   DIM 1400\n",
        "#GPU time 417.935242   DIM 1600\n",
        "#GPU time 545.383118   DIM 1800\n",
        "#GPU time 634.012207   DIM 2000"
      ],
      "metadata": {
        "id": "2aXQo7nYRGyA"
      }
    },
    {
      "cell_type": "markdown",
      "source": [
        "#CPU  time 525.729000 DIm 600\n",
        "#CPU time  962.112000  DIM 800\n",
        "#CPU  time 1438.720000  DIM 1000  \n",
        "#CPU time 2086.150000  DIM 1200\n",
        "#CPU time 2963.573000  DIM 1400\n",
        "#CPU time 3731.129000  DIM 1600\n",
        "#CPU time 4805.774000  DIM 1800\n",
        "#CPU time 5761.879000 DIM 2000\n"
      ],
      "metadata": {
        "id": "qQWDhO1CPzv1"
      }
    },
    {
      "cell_type": "markdown",
      "source": [
        "# 5 WYKRES "
      ],
      "metadata": {
        "id": "UE9MEt--OdLM"
      }
    },
    {
      "cell_type": "code",
      "source": [
        "import matplotlib.pyplot as plt\n",
        "\n",
        "# dodanie do tablic wartosci time i dim  \n",
        "time_ms_cpu = [ 525.729000 , 962.112000  , 1438.720000   , 2086.150000  , 2963.573000 , 3731.129000  , 4805.774000  , 5761.879000 ]\n",
        "dim_cpu = [600 , 800 , 1000 , 1200 , 1400 , 1600 , 1800 , 2000  ]\n",
        "\n",
        "time_ms_GPU = [ 59.203777  ,105.271072   ,163.239304 ,223.393799  ,309.888153  ,417.935242  ,545.383118   ,634.012207 ]\n",
        "dim_GPU = [600 , 800 , 1000 , 1200 , 1400 , 1600 , 1800 , 2000]\n",
        "\n",
        "# stowrzenie wykresu funkcja plot\n",
        "plt.plot(time_ms_cpu, dim_cpu, color='blue', label='CPU')\n",
        "plt.plot(time_ms_GPU ,dim_GPU  , color='red' , label='GPU' )\n",
        "\n",
        "# tytyl , os x i y \n",
        "plt.xlabel('Time (milliseconds)')\n",
        "plt.ylabel('DIM')\n",
        "plt.title('DIM over Time')\n",
        "\n",
        "# pokaz wykres \n",
        "plt.show()"
      ],
      "metadata": {
        "colab": {
          "base_uri": "https://localhost:8080/",
          "height": 295
        },
        "id": "QXIkO6M6OgGC",
        "outputId": "daff42a3-3cce-4870-d91b-5b967c6acf4d"
      },
      "execution_count": 64,
      "outputs": [
        {
          "output_type": "display_data",
          "data": {
            "text/plain": [
              "<Figure size 432x288 with 1 Axes>"
            ],
            "image/png": "[encoded data removed]"
          },
          "metadata": {
            "needs_background": "light"
          }
        }
      ]
    },
    {
      "cell_type": "markdown",
      "source": [
        "## 6 Moj nie dzialający innowacyjny kod "
      ],
      "metadata": {
        "id": "nCuxW9YJOghw"
      }
    },
    {
      "cell_type": "code",
      "source": [],
      "metadata": {
        "id": "TJWiiwjNiLF0"
      },
      "execution_count": null,
      "outputs": []
    },
    {
      "cell_type": "code",
      "source": [
        "%%cu\n",
        "\n",
        "\n",
        "\n",
        "#include <stdio.h>\n",
        "#include <stdlib.h>\n",
        "#include <math.h>\n",
        "\n",
        "#define DIM 1500\n",
        "\n",
        "//2000\n",
        "struct Color {\n",
        "    unsigned char r, g, b;\n",
        "};\n",
        "\n",
        "struct cuComplex {\n",
        "    float real, imag;\n",
        "    cuComplex(float r, float i) : real(r), imag(i) {}\n",
        "    float magnitude2() { return real * real + imag * imag; }\n",
        "    cuComplex operator*(const cuComplex& a) {\n",
        "        return cuComplex(real * a.real - imag * a.imag, real * a.imag + imag * a.real);\n",
        "    }\n",
        "    cuComplex operator+(const cuComplex& a) {\n",
        "        return cuComplex(real + a.real, imag + a.imag);\n",
        "    }\n",
        "};\n",
        "\n",
        "int mandelbrot(int x, int y, int maxIterations) {\n",
        "    const float scale = 1.5;\n",
        "    // bylo 1.5\n",
        "    float jx = scale * (float)(DIM/2 - x)/(DIM/2);\n",
        "    float jy = scale * (float)(DIM/2 - y)/(DIM/2);\n",
        "\n",
        "    cuComplex a(jx, jy);\n",
        "\n",
        "    int i = 0;\n",
        "    for (i = 0; i < maxIterations; i++) {\n",
        "        a = a * a + a;\n",
        "        // bylo 1000\n",
        "        if (a.magnitude2() > 1000) {\n",
        "            return i;\n",
        "        }\n",
        "    }\n",
        "\n",
        "    return i;\n",
        "}\n",
        "\n",
        "Color getColorFromPalette(int value, int maxIterations) {\n",
        "    int red = (value * 255) / maxIterations;\n",
        "    int green = (value * 255) / maxIterations;\n",
        "    int blue = 255 - (value * 255) / maxIterations;\n",
        "\n",
        "    return { (unsigned char)red, (unsigned char)green, (unsigned char)blue };\n",
        "}\n",
        "\n",
        "void kernel(unsigned char *ptr, int maxIterations) {\n",
        "    for (int y = 0; y < DIM; y++) {\n",
        "        for (int x = 0; x < DIM; x++) {\n",
        "            int offset = x + y * DIM;\n",
        "\n",
        "            int mandelbrotValue = mandelbrot(x, y, maxIterations);\n",
        "            if (mandelbrotValue == maxIterations) {\n",
        "                ptr[offset * 4 + 0] = 0;\n",
        "                ptr[offset * 4 + 1] = 0;\n",
        "                ptr[offset * 4 + 2] = 0;\n",
        "                ptr[offset * 4 + 3] = 0;\n",
        "            } else {\n",
        "                ptr[offset * 4 + 0] = getColorFromPalette(mandelbrotValue, maxIterations).r;\n",
        "                ptr[offset * 4 + 1] = getColorFromPalette(mandelbrotValue, maxIterations).g;\n",
        "                ptr[offset * 4 + 2] = getColorFromPalette(mandelbrotValue, maxIterations).b;\n",
        "                ptr[offset * 4 + 3] = 255;\n",
        "            }\n",
        "        }\n",
        "    }\n",
        "}\n",
        "\n",
        "void wypisz_RGB_fraktal(unsigned char *data) {\n",
        "  for (int i=0; i<DIM*DIM*4; i+=4)\n",
        "    printf(\"%3d %3d %3d\\n\", data[i], data[i+1], data[i+2]);\n",
        "}\n",
        "\n",
        "void save_to_file(unsigned char *data) {\n",
        "  FILE *f = fopen(\"out.ppm\", \"w\");\n",
        "  fprintf(f, \"P6\\n%d %d\\n255\\n\", DIM, DIM);\n",
        "  fwrite(data, 1, DIM*DIM*4, f);\n",
        "  fclose(f);\n",
        "}\n",
        "\n",
        "void save_to_pam(unsigned char *data) {\n",
        "  FILE *f = fopen(\"out.pam\", \"w\");\n",
        "  fprintf(f, \"P7\\nWIDTH %d\\nHEIGHT %d\\nDEPTH 4\\nMAXVAL 255\\nTUPLTYPE RGB_ALPHA\\nENDHDR\\n\", DIM, DIM);\n",
        "  fwrite(data, 1, DIM*DIM*4, f);\n",
        "  fclose(f);\n",
        "}\n",
        "\n",
        "int main(void) {\n",
        "    unsigned char *bitmap = (unsigned char*)malloc(DIM * DIM * 4 * sizeof(unsigned char));\n",
        "\n",
        "    // Call the kernel\n",
        "    kernel(bitmap, 500);\n",
        "   // kernel(bitmap , 20);\n",
        "   \n",
        " //wypisz_RGB_fraktal(bitmap);\n",
        "    save_to_file(bitmap);\n",
        "    save_to_pam(bitmap);\n",
        "\n",
        "    return 0;\n",
        "}"
      ],
      "metadata": {
        "colab": {
          "base_uri": "https://localhost:8080/"
        },
        "id": "_wSdODsMcsq7",
        "outputId": "8c099ff4-308d-4594-e9c1-59642d83798d"
      },
      "execution_count": 69,
      "outputs": [
        {
          "output_type": "stream",
          "name": "stdout",
          "text": [
            "\n"
          ]
        }
      ]
    },
    {
      "cell_type": "code",
      "source": [],
      "metadata": {
        "id": "zOz7fY7yOkzI"
      },
      "execution_count": null,
      "outputs": []
    },
    {
      "cell_type": "markdown",
      "source": [
        "### przyklad otwarcia w pythonie"
      ],
      "metadata": {
        "id": "YLAxPacciOF8"
      }
    },
    {
      "cell_type": "code",
      "source": [
        "import matplotlib.pyplot as plt\n",
        "from PIL import Image\n",
        "im = Image.open(\"out.ppm\")\n",
        "plt.imshow(im)\n",
        "plt.show()"
      ],
      "metadata": {
        "colab": {
          "base_uri": "https://localhost:8080/",
          "height": 269
        },
        "id": "SezJqnBLiRDq",
        "outputId": "6d0fe286-fedd-4ef2-c2b8-e22e4753271e"
      },
      "execution_count": 70,
      "outputs": [
        {
          "output_type": "display_data",
          "data": {
            "text/plain": [
              "<Figure size 432x288 with 1 Axes>"
            ],
            "image/png": "[encoded data removed]"
          },
          "metadata": {
            "needs_background": "light"
          }
        }
      ]
    }
  ]
}